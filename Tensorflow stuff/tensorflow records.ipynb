{
 "cells": [
  {
   "cell_type": "code",
   "execution_count": 1,
   "metadata": {},
   "outputs": [
    {
     "name": "stderr",
     "output_type": "stream",
     "text": [
      "C:\\ProgramData\\Anaconda3\\lib\\site-packages\\h5py\\__init__.py:36: FutureWarning: Conversion of the second argument of issubdtype from `float` to `np.floating` is deprecated. In future, it will be treated as `np.float64 == np.dtype(float).type`.\n",
      "  from ._conv import register_converters as _register_converters\n"
     ]
    }
   ],
   "source": [
    "import tensorflow as tf"
   ]
  },
  {
   "cell_type": "code",
   "execution_count": 3,
   "metadata": {},
   "outputs": [
    {
     "name": "stdout",
     "output_type": "stream",
     "text": [
      "{'Age': 29, 'Movie': ['The ShawShank Redemption', 'Fight Club'], 'Movie Ratings': [9.0, 9.7], 'Suggestion': 'Inception', 'Suggestion Purchased': 1.0, 'Purchase Price': 9.99}\n"
     ]
    }
   ],
   "source": [
    "data = {\n",
    "    \"Age\" : 29,\n",
    "    \"Movie\" : [\"The ShawShank Redemption\", \"Fight Club\"],\n",
    "    \"Movie Ratings\" : [9.0, 9.7],\n",
    "    \"Suggestion\" : \"Inception\",\n",
    "    \"Suggestion Purchased\" : 1.0,\n",
    "    \"Purchase Price\" : 9.99\n",
    "}\n",
    "print(data)"
   ]
  },
  {
   "cell_type": "code",
   "execution_count": 7,
   "metadata": {},
   "outputs": [
    {
     "name": "stdout",
     "output_type": "stream",
     "text": [
      "features {\n",
      "  feature {\n",
      "    key: \"Age\"\n",
      "    value {\n",
      "      int64_list {\n",
      "        value: 29\n",
      "      }\n",
      "    }\n",
      "  }\n",
      "  feature {\n",
      "    key: \"Movie\"\n",
      "    value {\n",
      "      bytes_list {\n",
      "        value: \"The ShawShank Redemption\"\n",
      "        value: \"Fight Club\"\n",
      "      }\n",
      "    }\n",
      "  }\n",
      "  feature {\n",
      "    key: \"Movie Ratings\"\n",
      "    value {\n",
      "      float_list {\n",
      "        value: 9.0\n",
      "        value: 9.699999809265137\n",
      "      }\n",
      "    }\n",
      "  }\n",
      "  feature {\n",
      "    key: \"Purchase Price\"\n",
      "    value {\n",
      "      float_list {\n",
      "        value: 9.989999771118164\n",
      "      }\n",
      "    }\n",
      "  }\n",
      "  feature {\n",
      "    key: \"Suggestion\"\n",
      "    value {\n",
      "      bytes_list {\n",
      "        value: \"Inception\"\n",
      "      }\n",
      "    }\n",
      "  }\n",
      "  feature {\n",
      "    key: \"Suggestion Purchased\"\n",
      "    value {\n",
      "      float_list {\n",
      "        value: 1.0\n",
      "      }\n",
      "    }\n",
      "  }\n",
      "}\n",
      "\n"
     ]
    }
   ],
   "source": [
    "example = tf.train.Example(\n",
    "    features = tf.train.Features(\n",
    "        feature = {\n",
    "            \"Age\" : tf.train.Feature(\n",
    "                int64_list = tf.train.Int64List(value = [data[\"Age\"]])   \n",
    "            ),\n",
    "            \"Movie\" : tf.train.Feature(\n",
    "                bytes_list = tf.train.BytesList(value = [m.encode(\"utf-8\") for m in data[\"Movie\"]] )\n",
    "            ),\n",
    "            \"Movie Ratings\" : tf.train.Feature(\n",
    "                float_list = tf.train.FloatList(value = [i for i in data[\"Movie Ratings\"]])\n",
    "            ),\n",
    "            \"Suggestion\" : tf.train.Feature(\n",
    "                bytes_list = tf.train.BytesList(value = [data[\"Suggestion\"].encode(\"utf-8\")])\n",
    "            ),\n",
    "            \"Suggestion Purchased\" : tf.train.Feature(\n",
    "              float_list = tf.train.FloatList(value = [data[\"Suggestion Purchased\"]])  \n",
    "            ),\n",
    "            \"Purchase Price\" : tf.train.Feature(\n",
    "                float_list = tf.train.FloatList(value = [data[\"Purchase Price\"]])\n",
    "            )\n",
    "        }\n",
    "    )\n",
    ")\n",
    "\n",
    "print(example)"
   ]
  },
  {
   "cell_type": "code",
   "execution_count": 8,
   "metadata": {},
   "outputs": [],
   "source": [
    "with tf.python_io.TFRecordWriter(\"customer_1.tfrecord\") as writer:\n",
    "    writer.write(example.SerializeToString())"
   ]
  },
  {
   "cell_type": "code",
   "execution_count": 19,
   "metadata": {},
   "outputs": [
    {
     "name": "stdout",
     "output_type": "stream",
     "text": [
      "Movie : SparseTensorValue(indices=array([[0],\n",
      "       [1]], dtype=int64), values=array([b'The ShawShank Redemption', b'Fight Club'], dtype=object), dense_shape=array([2], dtype=int64))\n",
      "Movie Ratings : SparseTensorValue(indices=array([[0],\n",
      "       [1]], dtype=int64), values=array([9. , 9.7], dtype=float32), dense_shape=array([2], dtype=int64))\n",
      "Age : 29\n",
      "Purchase Price : 9.989999771118164\n",
      "Suggestion : b'Inception'\n",
      "Suggestion Purchased : 1.0\n"
     ]
    }
   ],
   "source": [
    "try:\n",
    "    sess.close()\n",
    "except Exception:\n",
    "    pass\n",
    "sess = tf.InteractiveSession()\n",
    "\n",
    "\n",
    "reader = tf.TFRecordReader()\n",
    "\n",
    "filename_queue = tf.train.string_input_producer([\"customer_1.tfrecord\"])\n",
    "\n",
    "key, serilized_example = reader.read(filename_queue)\n",
    "\n",
    "read_features = {\n",
    "    \"Age\" : tf.FixedLenFeature([], dtype = tf.int64),\n",
    "    \"Movie\" : tf.VarLenFeature(dtype = tf.string),\n",
    "    \"Movie Ratings\" : tf.VarLenFeature(dtype = tf.float32),\n",
    "    \"Suggestion\" : tf.FixedLenFeature([], dtype = tf.string),\n",
    "    \"Suggestion Purchased\" : tf.FixedLenFeature([], dtype = tf.float32),\n",
    "    \"Purchase Price\" : tf.FixedLenFeature([], dtype = tf.float32),\n",
    "}\n",
    "\n",
    "\n",
    "read_data = tf.parse_single_example(serialized = serilized_example, features = read_features)\n",
    "\n",
    "tf.train.start_queue_runners(sess)\n",
    "\n",
    "for name, tensor in read_data.items():\n",
    "    print(\"{} : {}\".format(name, tensor.eval()))\n",
    "\n",
    "\n",
    "\n"
   ]
  },
  {
   "cell_type": "code",
   "execution_count": null,
   "metadata": {},
   "outputs": [],
   "source": []
  },
  {
   "cell_type": "code",
   "execution_count": null,
   "metadata": {},
   "outputs": [],
   "source": []
  }
 ],
 "metadata": {
  "kernelspec": {
   "display_name": "Python 3",
   "language": "python",
   "name": "python3"
  },
  "language_info": {
   "codemirror_mode": {
    "name": "ipython",
    "version": 3
   },
   "file_extension": ".py",
   "mimetype": "text/x-python",
   "name": "python",
   "nbconvert_exporter": "python",
   "pygments_lexer": "ipython3",
   "version": "3.6.5"
  }
 },
 "nbformat": 4,
 "nbformat_minor": 2
}
